{
 "cells": [
  {
   "cell_type": "code",
   "execution_count": 30,
   "metadata": {},
   "outputs": [],
   "source": [
    "import numpy as np\n",
    "import json\n",
    "\n",
    "with open('cranfield\\cran_qrels.json', 'r') as f:\n",
    "    data = json.load(f)\n",
    "\n",
    "data_set = np.zeros((1400*225,3) , dtype=int)\n",
    "\n",
    "idx = 0\n",
    "count = 0\n",
    "\n",
    "for i in range(1,1401):\n",
    "    for j in range(1,226):\n",
    "        data_set[idx][0] = i\n",
    "        data_set[idx][1] = j\n",
    "        if ({'query_num' : str(j), 'position' : 1 , 'id' : \n",
    "            str(i)}) in data : data_set[idx][2] = 1\n",
    "        if ({'query_num' : str(j), 'position' : 2 , 'id' : \n",
    "            str(i)}) in data : data_set[idx][2] = 1\n",
    "        if ({'query_num' : str(j), 'position' : 3 , 'id' : \n",
    "            str(i)}) in data : data_set[idx][2] = 1\n",
    "        if ({'query_num' : str(j), 'position' : 4 , 'id' : \n",
    "            str(i)}) in data : data_set[idx][2] = 1\n",
    "        idx+=1"
   ]
  },
  {
   "cell_type": "code",
   "execution_count": 31,
   "metadata": {},
   "outputs": [
    {
     "name": "stdout",
     "output_type": "stream",
     "text": [
      "1837\n",
      "[220657500  35595000      1837]\n"
     ]
    }
   ],
   "source": [
    "np.savetxt('cranfield/dataset.csv', data_set, fmt=\"%s\")\n",
    "\n",
    "data_set = np.genfromtxt('cranfield/dataset.csv' , dtype=int)\n",
    "\n",
    "print(len(data))\n",
    "print(np.sum(data_set,axis=0))"
   ]
  },
  {
   "cell_type": "code",
   "execution_count": 102,
   "metadata": {},
   "outputs": [
    {
     "name": "stdout",
     "output_type": "stream",
     "text": [
      "Epoch 1/5\n",
      "6891/6891 [==============================] - 7231s 1s/step - loss: 0.0080 - mse: 0.0080 - val_loss: 0.0046 - val_mse: 0.0046\n",
      "Epoch 2/5\n",
      "6891/6891 [==============================] - 4675s 678ms/step - loss: 0.0063 - mse: 0.0063 - val_loss: 0.0046 - val_mse: 0.0046\n",
      "Epoch 3/5\n",
      "6891/6891 [==============================] - 5006s 726ms/step - loss: 0.0063 - mse: 0.0063 - val_loss: 0.0046 - val_mse: 0.0046\n",
      "Epoch 4/5\n",
      "6891/6891 [==============================] - 4694s 681ms/step - loss: 0.0063 - mse: 0.0063 - val_loss: 0.0046 - val_mse: 0.0046\n",
      "Epoch 5/5\n",
      "6891/6891 [==============================] - 4523s 656ms/step - loss: 0.0063 - mse: 0.0063 - val_loss: 0.0046 - val_mse: 0.0046\n",
      "WARNING:tensorflow:Compiled the loaded model, but the compiled metrics have yet to be built. `model.compile_metrics` will be empty until you train or evaluate the model.\n"
     ]
    },
    {
     "name": "stderr",
     "output_type": "stream",
     "text": [
      "WARNING:tensorflow:Compiled the loaded model, but the compiled metrics have yet to be built. `model.compile_metrics` will be empty until you train or evaluate the model.\n",
      "WARNING:absl:Found untraced functions such as lstm_cell_18_layer_call_fn, lstm_cell_18_layer_call_and_return_conditional_losses while saving (showing 2 of 2). These functions will not be directly callable after loading.\n"
     ]
    },
    {
     "name": "stdout",
     "output_type": "stream",
     "text": [
      "INFO:tensorflow:Assets written to: results\\doc_model\\assets\n"
     ]
    },
    {
     "name": "stderr",
     "output_type": "stream",
     "text": [
      "INFO:tensorflow:Assets written to: results\\doc_model\\assets\n"
     ]
    },
    {
     "name": "stdout",
     "output_type": "stream",
     "text": [
      "WARNING:tensorflow:Compiled the loaded model, but the compiled metrics have yet to be built. `model.compile_metrics` will be empty until you train or evaluate the model.\n"
     ]
    },
    {
     "name": "stderr",
     "output_type": "stream",
     "text": [
      "WARNING:tensorflow:Compiled the loaded model, but the compiled metrics have yet to be built. `model.compile_metrics` will be empty until you train or evaluate the model.\n",
      "WARNING:absl:Found untraced functions such as lstm_cell_19_layer_call_fn, lstm_cell_19_layer_call_and_return_conditional_losses while saving (showing 2 of 2). These functions will not be directly callable after loading.\n"
     ]
    },
    {
     "name": "stdout",
     "output_type": "stream",
     "text": [
      "INFO:tensorflow:Assets written to: results\\query_model\\assets\n"
     ]
    },
    {
     "name": "stderr",
     "output_type": "stream",
     "text": [
      "INFO:tensorflow:Assets written to: results\\query_model\\assets\n"
     ]
    }
   ],
   "source": [
    "import tensorflow as tf\n",
    "from tensorflow.keras.optimizers import Adam\n",
    "\n",
    "doc_seq = np.genfromtxt('cranfield_sequences/doc_seq.csv', dtype=int)\n",
    "query_seq = np.genfromtxt('cranfield_sequences/q_seq.csv', dtype=int)\n",
    "y = data_set[:,2]\n",
    "x_doc_seq = np.array([doc_seq[(data_set[i][0])-1] for i in range(len(data_set))])\n",
    "x_query_seq = np.array([query_seq[(data_set[i][1])-1] for i in range(len(data_set))])\n",
    "\n",
    "HIDDEN_SIZE = 128\n",
    "VOCAB_SIZE = 9000\n",
    "EMBEDDING_DIM = 64\n",
    "DENSE_SIZE = 32\n",
    "\n",
    "doc_input = tf.keras.layers.Input(shape=(None,), dtype=\"int32\", name=\"doc_input\")\n",
    "query_input = tf.keras.layers.Input(shape=(None,), dtype=\"int32\", name=\"query_input\")\n",
    "\n",
    "embedding_layer = tf.keras.layers.Embedding(input_dim=VOCAB_SIZE, output_dim=EMBEDDING_DIM)\n",
    "\n",
    "doc_embedding = embedding_layer(doc_input)\n",
    "doc_dense_layer = tf.keras.layers.Dense(DENSE_SIZE, activation=\"relu\")(doc_embedding)\n",
    "doc_lstm_layer = tf.keras.layers.LSTM(HIDDEN_SIZE, return_state=True)(doc_dense_layer)\n",
    "doc_encoder, doc_hidden_state, doc_cell_state = doc_lstm_layer\n",
    "\n",
    "query_embedding = embedding_layer(query_input)\n",
    "query_dense_layer = tf.keras.layers.Dense(DENSE_SIZE, activation=\"relu\")(query_embedding)\n",
    "query_lstm_layer = tf.keras.layers.LSTM(HIDDEN_SIZE, return_state=True)(query_dense_layer)\n",
    "query_encoder, query_hidden_state, query_cell_state = query_lstm_layer\n",
    "\n",
    "concatenated = tf.keras.layers.concatenate([doc_encoder, query_encoder])\n",
    "\n",
    "dense_layer_1 = tf.keras.layers.Dense(DENSE_SIZE, activation=\"relu\")(concatenated)\n",
    "dense_layer_2 = tf.keras.layers.Dense(DENSE_SIZE, activation=\"relu\")(dense_layer_1)\n",
    "\n",
    "output_layer = tf.keras.layers.Dense(1, activation=\"sigmoid\")(dense_layer_2)\n",
    "\n",
    "model = tf.keras.models.Model(inputs=[doc_input, query_input], outputs=output_layer)\n",
    "\n",
    "# Create new models to get the hidden states\n",
    "doc_model = tf.keras.models.Model(inputs=doc_input, outputs=[doc_hidden_state, doc_cell_state])\n",
    "query_model = tf.keras.models.Model(inputs=query_input, outputs=[query_hidden_state, query_cell_state])\n",
    "\n",
    "opt = tf.keras.optimizers.Adam(learning_rate=1e-4)\n",
    "model.compile(loss=\"mse\", optimizer=opt, metrics=[\"mse\"])\n",
    "\n",
    "history = model.fit(\n",
    "    {\"doc_input\": x_doc_seq, \"query_input\": x_query_seq},\n",
    "    y,\n",
    "    epochs=5,\n",
    "    batch_size=32,\n",
    "    validation_split=0.3\n",
    ")\n",
    "\n",
    "doc_model.save(\"results\\doc_model\")\n",
    "query_model.save(\"results\\query_model\")\n"
   ]
  },
  {
   "cell_type": "code",
   "execution_count": 38,
   "metadata": {},
   "outputs": [
    {
     "name": "stdout",
     "output_type": "stream",
     "text": [
      "Epoch 1/5\n",
      "7875/7875 [==============================] - 1805s 229ms/step - loss: 0.0081 - accuracy: 0.9936 - val_loss: 0.0037 - val_accuracy: 0.9963\n",
      "Epoch 2/5\n",
      "7875/7875 [==============================] - 1299s 165ms/step - loss: 0.0063 - accuracy: 0.9936 - val_loss: 0.0037 - val_accuracy: 0.9963\n",
      "Epoch 3/5\n",
      "7875/7875 [==============================] - 1411s 179ms/step - loss: 0.0063 - accuracy: 0.9936 - val_loss: 0.0037 - val_accuracy: 0.9963\n",
      "Epoch 4/5\n",
      "7875/7875 [==============================] - 1422s 181ms/step - loss: 0.0063 - accuracy: 0.9936 - val_loss: 0.0037 - val_accuracy: 0.9963\n",
      "Epoch 5/5\n",
      "7875/7875 [==============================] - 1446s 184ms/step - loss: 0.0063 - accuracy: 0.9936 - val_loss: 0.0037 - val_accuracy: 0.9963\n"
     ]
    },
    {
     "data": {
      "text/plain": [
       "<keras.callbacks.History at 0x230151ee970>"
      ]
     },
     "execution_count": 38,
     "metadata": {},
     "output_type": "execute_result"
    }
   ],
   "source": [
    "doc_seq = np.genfromtxt('cranfield_sequences/doc_seq.csv', dtype=int)\n",
    "query_seq = np.genfromtxt('cranfield_sequences/q_seq.csv', dtype=int)\n",
    "y = data_set[:,2]\n",
    "x_doc_seq = np.array([doc_seq[(data_set[i][0])-1] for i in range(len(data_set))])\n",
    "x_query_seq = np.array([query_seq[(data_set[i][1])-1] for i in range(len(data_set))])\n",
    "\n",
    "HIDDEN_SIZE = 64\n",
    "VOCAB_SIZE = 9000\n",
    "EMBEDDING_DIM = 64\n",
    "DENSE_SIZE = 64\n",
    "\n",
    "doc_input = tf.keras.layers.Input(shape=(None,), dtype=\"int32\", name=\"doc_input\")\n",
    "query_input = tf.keras.layers.Input(shape=(None,), dtype=\"int32\", name=\"query_input\")\n",
    "\n",
    "embedding_layer = tf.keras.layers.Embedding(input_dim=VOCAB_SIZE, output_dim=EMBEDDING_DIM)\n",
    "\n",
    "doc_embedding = embedding_layer(doc_input)\n",
    "doc_encoder = tf.keras.layers.LSTM(HIDDEN_SIZE)(doc_embedding)\n",
    "\n",
    "query_embedding = embedding_layer(query_input)\n",
    "query_encoder = tf.keras.layers.LSTM(HIDDEN_SIZE)(query_embedding)\n",
    "\n",
    "concatenated = tf.keras.layers.concatenate([doc_encoder, query_encoder])\n",
    "dense_layer_1 = tf.keras.layers.Dense(DENSE_SIZE, activation=\"relu\")(concatenated)\n",
    "dense_layer_2 = tf.keras.layers.Dense(DENSE_SIZE, activation=\"relu\")(dense_layer_1)\n",
    "output_layer = tf.keras.layers.Dense(1, activation=\"sigmoid\")(dense_layer_2)\n",
    "model = tf.keras.models.Model(inputs=[doc_input, query_input], outputs=output_layer)\n",
    "\n",
    "opt = tf.keras.optimizers.Adam(learning_rate=1e-4)\n",
    "model.compile(loss=\"mse\", optimizer=opt, metrics=[\"accuracy\"])\n",
    "\n",
    "model.fit(\n",
    "    {\"doc_input\": x_doc_seq, \"query_input\": x_query_seq},\n",
    "    y,\n",
    "    epochs=5,\n",
    "    batch_size=32,\n",
    "    validation_split=0.2\n",
    ")"
   ]
  },
  {
   "cell_type": "code",
   "execution_count": 103,
   "metadata": {},
   "outputs": [
    {
     "name": "stdout",
     "output_type": "stream",
     "text": [
      "44/44 [==============================] - 5s 94ms/step\n",
      "8/8 [==============================] - 1s 86ms/step\n",
      "Epoch 1/20\n",
      "368/368 [==============================] - 2s 3ms/step - loss: 1.1115 - accuracy: 0.2192 - val_loss: 1.0602 - val_accuracy: 0.1793\n",
      "Epoch 2/20\n",
      "368/368 [==============================] - 1s 3ms/step - loss: 1.0891 - accuracy: 0.2185 - val_loss: 1.0379 - val_accuracy: 0.1793\n",
      "Epoch 3/20\n",
      "368/368 [==============================] - 1s 3ms/step - loss: 1.0725 - accuracy: 0.2158 - val_loss: 1.0212 - val_accuracy: 0.1793\n",
      "Epoch 4/20\n",
      "368/368 [==============================] - 1s 3ms/step - loss: 1.0582 - accuracy: 0.3799 - val_loss: 1.0063 - val_accuracy: 0.4538\n",
      "Epoch 5/20\n",
      "368/368 [==============================] - 1s 3ms/step - loss: 1.0459 - accuracy: 0.3860 - val_loss: 0.9930 - val_accuracy: 0.4538\n",
      "Epoch 6/20\n",
      "368/368 [==============================] - 1s 3ms/step - loss: 1.0344 - accuracy: 0.3860 - val_loss: 0.9807 - val_accuracy: 0.4538\n",
      "Epoch 7/20\n",
      "368/368 [==============================] - 1s 3ms/step - loss: 1.0244 - accuracy: 0.3860 - val_loss: 0.9704 - val_accuracy: 0.4538\n",
      "Epoch 8/20\n",
      "368/368 [==============================] - 1s 3ms/step - loss: 1.0155 - accuracy: 0.3860 - val_loss: 0.9607 - val_accuracy: 0.4538\n",
      "Epoch 9/20\n",
      "368/368 [==============================] - 1s 3ms/step - loss: 1.0070 - accuracy: 0.3860 - val_loss: 0.9512 - val_accuracy: 0.4538\n",
      "Epoch 10/20\n",
      "368/368 [==============================] - 1s 3ms/step - loss: 0.9994 - accuracy: 0.3860 - val_loss: 0.9422 - val_accuracy: 0.4538\n",
      "Epoch 11/20\n",
      "368/368 [==============================] - 1s 3ms/step - loss: 0.9921 - accuracy: 0.3860 - val_loss: 0.9341 - val_accuracy: 0.4538\n",
      "Epoch 12/20\n",
      "368/368 [==============================] - 1s 3ms/step - loss: 0.9853 - accuracy: 0.3860 - val_loss: 0.9263 - val_accuracy: 0.4538\n",
      "Epoch 13/20\n",
      "368/368 [==============================] - 1s 3ms/step - loss: 0.9788 - accuracy: 0.3860 - val_loss: 0.9189 - val_accuracy: 0.4538\n",
      "Epoch 14/20\n",
      "368/368 [==============================] - 1s 3ms/step - loss: 0.9725 - accuracy: 0.3860 - val_loss: 0.9116 - val_accuracy: 0.4538\n",
      "Epoch 15/20\n",
      "368/368 [==============================] - 1s 3ms/step - loss: 0.9666 - accuracy: 0.3860 - val_loss: 0.9045 - val_accuracy: 0.4538\n",
      "Epoch 16/20\n",
      "368/368 [==============================] - 1s 3ms/step - loss: 0.9609 - accuracy: 0.3860 - val_loss: 0.8980 - val_accuracy: 0.4538\n",
      "Epoch 17/20\n",
      "368/368 [==============================] - 1s 3ms/step - loss: 0.9557 - accuracy: 0.3860 - val_loss: 0.8921 - val_accuracy: 0.4538\n",
      "Epoch 18/20\n",
      "368/368 [==============================] - 1s 3ms/step - loss: 0.9510 - accuracy: 0.3860 - val_loss: 0.8866 - val_accuracy: 0.4538\n",
      "Epoch 19/20\n",
      "368/368 [==============================] - 1s 3ms/step - loss: 0.9467 - accuracy: 0.3860 - val_loss: 0.8816 - val_accuracy: 0.4538\n",
      "Epoch 20/20\n",
      "368/368 [==============================] - 1s 3ms/step - loss: 0.9425 - accuracy: 0.3860 - val_loss: 0.8765 - val_accuracy: 0.4538\n"
     ]
    },
    {
     "data": {
      "image/png": "[encoded data removed]",
      "text/plain": [
       "<Figure size 1080x360 with 2 Axes>"
      ]
     },
     "metadata": {
      "needs_background": "light"
     },
     "output_type": "display_data"
    }
   ],
   "source": [
    "# my_model = tf.keras.models.load_model('results\\my_model')\n",
    "\n",
    "doc_seq = np.genfromtxt('cranfield_sequences/doc_seq.csv', dtype=int)\n",
    "query_seq = np.genfromtxt('cranfield_sequences/q_seq.csv', dtype=int)\n",
    "\n",
    "# Feed sequences and generate embeddings\n",
    "# doc_model = tf.keras.models.Model(inputs=model.input[0], outputs=model.layers[3].output[1:])\n",
    "# query_model = tf.keras.models.Model(inputs=model.input[1], outputs=model.layers[4].output[1:])\n",
    "\n",
    "# use the new models to get the hidden states for a given input sequence\n",
    "doc_hidden_state, doc_cell_state = doc_model.predict(doc_seq)\n",
    "query_hidden_state, query_cell_state = query_model.predict(query_seq)\n",
    "\n",
    "np.savetxt('cranfield_sequences\\doc_seq_embedding_2.csv', doc_hidden_state, fmt = \"%s\")\n",
    "np.savetxt('cranfield_sequences\\q_seq_embedding_2.csv', query_hidden_state, fmt = \"%s\")"
   ]
  }
 ],
 "metadata": {
  "kernelspec": {
   "display_name": "Python 3",
   "language": "python",
   "name": "python3"
  },
  "language_info": {
   "codemirror_mode": {
    "name": "ipython",
    "version": 3
   },
   "file_extension": ".py",
   "mimetype": "text/x-python",
   "name": "python",
   "nbconvert_exporter": "python",
   "pygments_lexer": "ipython3",
   "version": "3.9.6"
  },
  "orig_nbformat": 4
 },
 "nbformat": 4,
 "nbformat_minor": 2
}
